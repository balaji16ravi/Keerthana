{
  "nbformat": 4,
  "nbformat_minor": 0,
  "metadata": {
    "colab": {
      "name": "Untitled7.ipynb",
      "provenance": []
    },
    "kernelspec": {
      "name": "python3",
      "display_name": "Python 3"
    }
  },
  "cells": [
    {
      "cell_type": "code",
      "metadata": {
        "id": "u_lvy-pM0cSt",
        "colab_type": "code",
        "colab": {
          "base_uri": "https://localhost:8080/",
          "height": 34
        },
        "outputId": "f97284f3-ca01-4a8c-f61c-061984f75c84"
      },
      "source": [
        "'''Use while loop to print the first Amstrong Number in the range of 1042000 to 702648265 exit the loop as soon as the first amstrong number is encountered''' \n",
        "for num in range(1042000,702648265):\n",
        "  temp=num\n",
        "  sum_value=0\n",
        "  order=len(str(num))\n",
        "  while temp!=0:\n",
        "    digit=temp%10\n",
        "    sum_value+=digit**order\n",
        "    temp//=10\n",
        "  if sum_value==num:\n",
        "    print(num)\n",
        "    break\n"
      ],
      "execution_count": 3,
      "outputs": [
        {
          "output_type": "stream",
          "text": [
            "1741725\n"
          ],
          "name": "stdout"
        }
      ]
    },
    {
      "cell_type": "code",
      "metadata": {
        "id": "iPhZNi1w1kMR",
        "colab_type": "code",
        "colab": {}
      },
      "source": [
        ""
      ],
      "execution_count": null,
      "outputs": []
    }
  ]
}