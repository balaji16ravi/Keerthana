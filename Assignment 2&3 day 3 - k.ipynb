{
  "nbformat": 4,
  "nbformat_minor": 0,
  "metadata": {
    "colab": {
      "name": "Untitled6.ipynb",
      "provenance": []
    },
    "kernelspec": {
      "name": "python3",
      "display_name": "Python 3"
    }
  },
  "cells": [
    {
      "cell_type": "code",
      "metadata": {
        "id": "1dmSVGGca2ye",
        "colab_type": "code",
        "colab": {
          "base_uri": "https://localhost:8080/",
          "height": 52
        },
        "outputId": "2cbfc5a0-3424-4a85-809f-56ddcbd54879"
      },
      "source": [
        "'''You are a pilots,it is \"safe to land\" a plane,if it is 1000ft.\n",
        "if it is less than that tell pilot to land, or it is more than that but ask the pilot to \"bring down to 1000ft\" else it is more than 5000ft ask the pilot try again\"'''"
      ],
      "execution_count": 2,
      "outputs": [
        {
          "output_type": "execute_result",
          "data": {
            "application/vnd.google.colaboratory.intrinsic+json": {
              "type": "string"
            },
            "text/plain": [
              "'You are a pilots,it is \"safe to land\" a plane,if it is 1000ft.\\nif it is less than that tell pilot to land, or it is more than that but ask the pilot to \"bring down to 1000ft\" else it is more than 5000ft ask the pilot try again\"'"
            ]
          },
          "metadata": {
            "tags": []
          },
          "execution_count": 2
        }
      ]
    },
    {
      "cell_type": "code",
      "metadata": {
        "id": "Vm6yiD7feidt",
        "colab_type": "code",
        "colab": {
          "base_uri": "https://localhost:8080/",
          "height": 51
        },
        "outputId": "82bd2623-a5fc-4d9c-89e0-ef202ccc243a"
      },
      "source": [
        "altitude=int(input(\"Enter the Altitude:\"))\n",
        "if(altitude<=1000):\n",
        "  print(\"Safe to Land\")\n",
        "elif(altitude>1000 & altitude<5000):\n",
        "  print(\"Bring to 1000 feet\")\n",
        "elif(altitude>5000):\n",
        "  print(\"Turn Around and Try later\")"
      ],
      "execution_count": 3,
      "outputs": [
        {
          "output_type": "stream",
          "text": [
            "Enter the Altitude:1000\n",
            "Safe to Land\n"
          ],
          "name": "stdout"
        }
      ]
    },
    {
      "cell_type": "code",
      "metadata": {
        "id": "zku_aMiofjly",
        "colab_type": "code",
        "colab": {}
      },
      "source": [
        "#using for loop print all prime numbers between 1 and 200 along with range function"
      ],
      "execution_count": 4,
      "outputs": []
    },
    {
      "cell_type": "code",
      "metadata": {
        "id": "hXpKqq8vga9L",
        "colab_type": "code",
        "colab": {
          "base_uri": "https://localhost:8080/",
          "height": 799
        },
        "outputId": "fc4b39f8-f9db-4d02-e7fc-a6682621c4df"
      },
      "source": [
        "for num in range(2,201):\n",
        "  for i in range(2,num):\n",
        "    if(num%i==0):\n",
        "      break\n",
        "  else:\n",
        "    print(num)\n",
        "   "
      ],
      "execution_count": 6,
      "outputs": [
        {
          "output_type": "stream",
          "text": [
            "2\n",
            "3\n",
            "5\n",
            "7\n",
            "11\n",
            "13\n",
            "17\n",
            "19\n",
            "23\n",
            "29\n",
            "31\n",
            "37\n",
            "41\n",
            "43\n",
            "47\n",
            "53\n",
            "59\n",
            "61\n",
            "67\n",
            "71\n",
            "73\n",
            "79\n",
            "83\n",
            "89\n",
            "97\n",
            "101\n",
            "103\n",
            "107\n",
            "109\n",
            "113\n",
            "127\n",
            "131\n",
            "137\n",
            "139\n",
            "149\n",
            "151\n",
            "157\n",
            "163\n",
            "167\n",
            "173\n",
            "179\n",
            "181\n",
            "191\n",
            "193\n",
            "197\n",
            "199\n"
          ],
          "name": "stdout"
        }
      ]
    },
    {
      "cell_type": "code",
      "metadata": {
        "id": "P6JBmIp_gs-c",
        "colab_type": "code",
        "colab": {}
      },
      "source": [
        ""
      ],
      "execution_count": null,
      "outputs": []
    }
  ]
}